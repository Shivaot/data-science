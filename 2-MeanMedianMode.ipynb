{
 "cells": [
  {
   "cell_type": "markdown",
   "metadata": {
    "deletable": true,
    "editable": true
   },
   "source": [
    "# Mean, Median, Mode, and introducing NumPy"
   ]
  },
  {
   "cell_type": "markdown",
   "metadata": {
    "deletable": true,
    "editable": true
   },
   "source": [
    "## Mean vs. Median"
   ]
  },
  {
   "cell_type": "markdown",
   "metadata": {
    "deletable": true,
    "editable": true
   },
   "source": [
    "Let's create some fake income data, centered around 27,000 with a normal distribution and standard deviation of 15,000, with 10,000 data points.\n",
    "Then, compute the mean (average) - it should be close to 27,000:"
   ]
  },
  {
   "cell_type": "code",
   "execution_count": 1,
   "metadata": {
    "collapsed": false,
    "deletable": true,
    "editable": true
   },
   "outputs": [
    {
     "data": {
      "text/plain": [
       "27006.630375676905"
      ]
     },
     "execution_count": 1,
     "metadata": {},
     "output_type": "execute_result"
    }
   ],
   "source": [
    "import numpy as np\n",
    "\n",
    "incomes = np.random.normal(27000, 15000, 10000)\n",
    "np.mean(incomes)"
   ]
  },
  {
   "cell_type": "markdown",
   "metadata": {
    "deletable": true,
    "editable": true
   },
   "source": [
    "We can segment the income data into 50 buckets, and plot it as a histogram:"
   ]
  },
  {
   "cell_type": "code",
   "execution_count": 2,
   "metadata": {
    "collapsed": false,
    "deletable": true,
    "editable": true
   },
   "outputs": [
    {
     "data": {
      "image/png": "[encoded data removed]",
      "text/plain": [
       "<matplotlib.figure.Figure at 0x1dc845ec7f0>"
      ]
     },
     "metadata": {},
     "output_type": "display_data"
    }
   ],
   "source": [
    "%matplotlib inline\n",
    "import matplotlib.pyplot as plt\n",
    "plt.hist(incomes, 50)\n",
    "plt.show()"
   ]
  },
  {
   "cell_type": "markdown",
   "metadata": {
    "deletable": true,
    "editable": true
   },
   "source": [
    "Now compute the median - since we have a nice, even distribution it too should be close to 27,000:"
   ]
  },
  {
   "cell_type": "code",
   "execution_count": 3,
   "metadata": {
    "collapsed": false,
    "deletable": true,
    "editable": true
   },
   "outputs": [
    {
     "data": {
      "text/plain": [
       "27195.153719614136"
      ]
     },
     "execution_count": 3,
     "metadata": {},
     "output_type": "execute_result"
    }
   ],
   "source": [
    "np.median(incomes)"
   ]
  },
  {
   "cell_type": "markdown",
   "metadata": {
    "deletable": true,
    "editable": true
   },
   "source": [
    "Now we'll add Donald Trump into the mix. Darn income inequality!"
   ]
  },
  {
   "cell_type": "code",
   "execution_count": 4,
   "metadata": {
    "collapsed": false,
    "deletable": true,
    "editable": true
   },
   "outputs": [],
   "source": [
    "incomes = np.append(incomes, [1000000000])"
   ]
  },
  {
   "cell_type": "markdown",
   "metadata": {
    "deletable": true,
    "editable": true
   },
   "source": [
    "The median won't change much, but the mean does:"
   ]
  },
  {
   "cell_type": "code",
   "execution_count": 5,
   "metadata": {
    "collapsed": false,
    "deletable": true,
    "editable": true
   },
   "outputs": [
    {
     "data": {
      "text/plain": [
       "27195.884278535214"
      ]
     },
     "execution_count": 5,
     "metadata": {},
     "output_type": "execute_result"
    }
   ],
   "source": [
    "np.median(incomes)"
   ]
  },
  {
   "cell_type": "code",
   "execution_count": 6,
   "metadata": {
    "collapsed": false,
    "deletable": true,
    "editable": true
   },
   "outputs": [
    {
     "data": {
      "text/plain": [
       "126993.93098257863"
      ]
     },
     "execution_count": 6,
     "metadata": {},
     "output_type": "execute_result"
    }
   ],
   "source": [
    "np.mean(incomes)"
   ]
  },
  {
   "cell_type": "markdown",
   "metadata": {
    "deletable": true,
    "editable": true
   },
   "source": [
    "## Mode"
   ]
  },
  {
   "cell_type": "markdown",
   "metadata": {
    "deletable": true,
    "editable": true
   },
   "source": [
    "Next, let's generate some fake age data for 500 people:"
   ]
  },
  {
   "cell_type": "code",
   "execution_count": 12,
   "metadata": {
    "collapsed": false,
    "deletable": true,
    "editable": true
   },
   "outputs": [
    {
     "data": {
      "text/plain": [
       "array([71, 45, 35, 19, 70, 65, 73, 29, 76, 72, 77, 63, 73, 40, 50, 54, 42,\n",
       "       80, 46, 54, 48, 81, 49, 68, 25, 46, 27, 34, 21, 71, 56, 41, 69, 39,\n",
       "       47, 78, 55, 24, 34, 38, 49, 56, 29, 75, 64, 41, 89, 57, 69, 20, 28,\n",
       "       76, 75, 79, 83, 63, 63, 72, 27, 68, 37, 75, 88, 65, 31, 61, 24, 76,\n",
       "       54, 58, 88, 85, 46, 87, 20, 70, 44, 88, 72, 33, 31, 48, 69, 68, 76,\n",
       "       46, 34, 53, 33, 50, 19, 34, 74, 28, 61, 64, 48, 80, 54, 24, 51, 77,\n",
       "       18, 55, 82, 75, 49, 81, 68, 58, 54, 55, 86, 86, 66, 42, 57, 18, 22,\n",
       "       53, 49, 62, 32, 70, 83, 74, 56, 37, 43, 83, 30, 80, 70, 52, 56, 41,\n",
       "       70, 43, 20, 51, 25, 79, 65, 50, 71, 67, 55, 44, 76, 89, 82, 78, 71,\n",
       "       50, 57, 38, 27, 45, 47, 84, 69, 67, 67, 85, 36, 82, 71, 47, 24, 47,\n",
       "       89, 79, 63, 52, 28, 26, 68, 40, 67, 36, 31, 76, 87, 45, 46, 67, 56,\n",
       "       86, 73, 24, 62, 45, 23, 89, 36, 44, 20, 24, 46, 18, 65, 81, 38, 23,\n",
       "       59, 83, 25, 25, 63, 42, 47, 85, 50, 42, 18, 56, 57, 67, 35, 83, 79,\n",
       "       33, 27, 55, 79, 80, 32, 46, 78, 49, 34, 86, 64, 52, 49, 52, 68, 44,\n",
       "       26, 66, 85, 47, 55, 26, 36, 29, 18, 85, 20, 19, 39, 43, 81, 20, 27,\n",
       "       88, 48, 50, 86, 61, 74, 50, 67, 49, 51, 18, 55, 57, 49, 30, 49, 45,\n",
       "       23, 29, 24, 64, 50, 28, 64, 27, 75, 22, 80, 41, 88, 79, 63, 59, 70,\n",
       "       40, 19, 87, 89, 55, 34, 22, 44, 57, 73, 38, 25, 87, 70, 47, 46, 84,\n",
       "       68, 34, 62, 62, 24, 84, 85, 31, 77, 18, 87, 89, 63, 31, 43, 68, 59,\n",
       "       27, 35, 35, 29, 83, 27, 31, 80, 18, 52, 33, 33, 28, 70, 30, 39, 80,\n",
       "       77, 65, 75, 37, 54, 24, 61, 44, 60, 65, 47, 26, 58, 69, 75, 77, 75,\n",
       "       57, 70, 69, 31, 20, 55, 58, 43, 27, 30, 47, 24, 73, 79, 38, 27, 49,\n",
       "       76, 35, 24, 57, 88, 31, 33, 70, 75, 36, 27, 81, 69, 56, 26, 34, 83,\n",
       "       39, 37, 49, 37, 22, 27, 59, 18, 23, 18, 56, 44, 21, 45, 56, 31, 57,\n",
       "       74, 40, 61, 30, 37, 74, 87, 42, 40, 55, 81, 80, 69, 74, 78, 32, 83,\n",
       "       88, 83, 34, 82, 67, 48, 73, 53, 36, 72, 69, 68, 68, 28, 44, 18, 62,\n",
       "       48, 82, 86, 46, 44, 80, 52, 67, 64, 88, 64, 71, 22, 82, 36, 74, 51,\n",
       "       44, 80, 26, 41, 34, 66, 67, 21, 51, 40, 68, 45, 33, 67, 43, 63, 77,\n",
       "       64, 58, 77, 18, 54, 73, 85, 79, 50, 63, 49, 59, 24, 79, 81, 33, 47,\n",
       "       68, 58, 84, 26, 82, 18, 71])"
      ]
     },
     "execution_count": 12,
     "metadata": {},
     "output_type": "execute_result"
    }
   ],
   "source": [
    "import numpy as np\n",
    "\n",
    "ages = np.random.randint(18, high=90, size=500)\n",
    "ages"
   ]
  },
  {
   "cell_type": "code",
   "execution_count": 13,
   "metadata": {
    "collapsed": false,
    "deletable": true,
    "editable": true
   },
   "outputs": [
    {
     "data": {
      "text/plain": [
       "ModeResult(mode=array([18]), count=array([13]))"
      ]
     },
     "execution_count": 13,
     "metadata": {},
     "output_type": "execute_result"
    }
   ],
   "source": [
    "from scipy import stats\n",
    "stats.mode(ages)"
   ]
  }
 ],
 "metadata": {
  "kernelspec": {
   "display_name": "Python 3",
   "language": "python",
   "name": "python3"
  },
  "language_info": {
   "codemirror_mode": {
    "name": "ipython",
    "version": 3
   },
   "file_extension": ".py",
   "mimetype": "text/x-python",
   "name": "python",
   "nbconvert_exporter": "python",
   "pygments_lexer": "ipython3",
   "version": "3.5.2"
  }
 },
 "nbformat": 4,
 "nbformat_minor": 0
}
